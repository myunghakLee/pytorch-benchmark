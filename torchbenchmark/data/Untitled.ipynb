{
 "cells": [
  {
   "cell_type": "code",
   "execution_count": 1,
   "id": "466c69e7",
   "metadata": {
    "ExecuteTime": {
     "end_time": "2022-06-07T23:41:48.942160Z",
     "start_time": "2022-06-07T23:41:48.937630Z"
    }
   },
   "outputs": [],
   "source": [
    "import tarfile\n"
   ]
  },
  {
   "cell_type": "code",
   "execution_count": 3,
   "id": "cfed3b85",
   "metadata": {
    "ExecuteTime": {
     "end_time": "2022-06-07T23:41:59.200352Z",
     "start_time": "2022-06-07T23:41:59.189001Z"
    }
   },
   "outputs": [
    {
     "data": {
      "text/plain": [
       "<tarfile.TarFile at 0x7f32c207fa30>"
      ]
     },
     "execution_count": 3,
     "metadata": {},
     "output_type": "execute_result"
    }
   ],
   "source": [
    "tarfile.open(\"./coco128.tar.gz\")"
   ]
  }
 ],
 "metadata": {
  "kernelspec": {
   "display_name": "Python 3",
   "language": "python",
   "name": "python3"
  },
  "language_info": {
   "codemirror_mode": {
    "name": "ipython",
    "version": 3
   },
   "file_extension": ".py",
   "mimetype": "text/x-python",
   "name": "python",
   "nbconvert_exporter": "python",
   "pygments_lexer": "ipython3",
   "version": "3.8.10"
  },
  "toc": {
   "base_numbering": 1,
   "nav_menu": {},
   "number_sections": false,
   "sideBar": true,
   "skip_h1_title": false,
   "title_cell": "Table of Contents",
   "title_sidebar": "Contents",
   "toc_cell": false,
   "toc_position": {},
   "toc_section_display": true,
   "toc_window_display": false
  }
 },
 "nbformat": 4,
 "nbformat_minor": 5
}
