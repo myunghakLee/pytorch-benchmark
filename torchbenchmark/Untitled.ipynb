{
 "cells": [
  {
   "cell_type": "code",
   "execution_count": 6,
   "id": "19aa9487",
   "metadata": {
    "ExecuteTime": {
     "end_time": "2022-06-09T06:26:10.122550Z",
     "start_time": "2022-06-09T06:26:10.115450Z"
    }
   },
   "outputs": [],
   "source": [
    "import pathlib\n",
    "\n",
    "\n",
    "p = pathlib.Path(\"./\").parent.joinpath(\"models\")\n",
    "_list_model_paths = sorted(str(child.absolute()) for child in p.iterdir() if child.is_dir())"
   ]
  },
  {
   "cell_type": "code",
   "execution_count": 35,
   "id": "4a2d92f5",
   "metadata": {
    "ExecuteTime": {
     "end_time": "2022-06-09T06:32:01.290679Z",
     "start_time": "2022-06-09T06:32:01.280682Z"
    }
   },
   "outputs": [],
   "source": [
    "import os\n",
    "\n",
    "def list_models(model_match=None):\n",
    "    models = []\n",
    "    for model_path in _list_model_paths:\n",
    "        model_name = os.path.basename(model_path)\n",
    "        print(model_name)\n",
    "#         try:\n",
    "#             module = importlib.import_module(f'.models.{model_name}', package=__name__)\n",
    "#         except ModuleNotFoundError as e:\n",
    "#             print(f\"Warning: Could not find dependent module {e.name} for Model {model_name}, skip it\")\n",
    "#             continue\n",
    "        try:\n",
    "            module = importlib.import_module(f'.models.{model_name}', package=model_path)\n",
    "        except ModuleNotFoundError as e:\n",
    "            print(f\"Warning: Could not find dependent module {e.name} for Model {model_name}, skip it\")\n",
    "            continue\n",
    "        Model = getattr(module, 'Model', None)\n",
    "#         if Model is None:\n",
    "#             print(f\"Warning: {module} does not define attribute Model, skip it\")\n",
    "#             continue\n",
    "#         if not hasattr(Model, 'name'):\n",
    "#             Model.name = model_name\n",
    "\n",
    "#         # If given model_match, only return full or partial name matches in models.\n",
    "#         if model_match is None:\n",
    "#             models.append(Model)\n",
    "#         else:\n",
    "#             if model_match.lower() in Model.name.lower():\n",
    "#                 models.append(Model)\n",
    "#     return models"
   ]
  },
  {
   "cell_type": "code",
   "execution_count": 36,
   "id": "4752bef4",
   "metadata": {
    "ExecuteTime": {
     "end_time": "2022-06-09T06:32:02.153138Z",
     "start_time": "2022-06-09T06:32:02.139945Z"
    }
   },
   "outputs": [
    {
     "name": "stdout",
     "output_type": "stream",
     "text": [
      "BERT_pytorch\n",
      "Warning: Could not find dependent module /workspace/UCI/pytorch-benchmark/torchbenchmark/models/BERT_pytorch for Model BERT_pytorch, skip it\n",
      "LearningToPaint\n",
      "Warning: Could not find dependent module /workspace/UCI/pytorch-benchmark/torchbenchmark/models/LearningToPaint for Model LearningToPaint, skip it\n",
      "alexnet\n",
      "Warning: Could not find dependent module /workspace/UCI/pytorch-benchmark/torchbenchmark/models/alexnet for Model alexnet, skip it\n",
      "attention_is_all_you_need_pytorch\n",
      "Warning: Could not find dependent module /workspace/UCI/pytorch-benchmark/torchbenchmark/models/attention_is_all_you_need_pytorch for Model attention_is_all_you_need_pytorch, skip it\n",
      "nvidia_deeprecommender\n",
      "Warning: Could not find dependent module /workspace/UCI/pytorch-benchmark/torchbenchmark/models/nvidia_deeprecommender for Model nvidia_deeprecommender, skip it\n",
      "pytorch_unet\n",
      "Warning: Could not find dependent module /workspace/UCI/pytorch-benchmark/torchbenchmark/models/pytorch_unet for Model pytorch_unet, skip it\n",
      "resnet18\n",
      "Warning: Could not find dependent module /workspace/UCI/pytorch-benchmark/torchbenchmark/models/resnet18 for Model resnet18, skip it\n",
      "resnet50\n",
      "Warning: Could not find dependent module /workspace/UCI/pytorch-benchmark/torchbenchmark/models/resnet50 for Model resnet50, skip it\n",
      "resnet50_quantized_qat\n",
      "Warning: Could not find dependent module /workspace/UCI/pytorch-benchmark/torchbenchmark/models/resnet50_quantized_qat for Model resnet50_quantized_qat, skip it\n",
      "resnext50_32x4d\n",
      "Warning: Could not find dependent module /workspace/UCI/pytorch-benchmark/torchbenchmark/models/resnext50_32x4d for Model resnext50_32x4d, skip it\n",
      "squeezenet1_1\n",
      "Warning: Could not find dependent module /workspace/UCI/pytorch-benchmark/torchbenchmark/models/squeezenet1_1 for Model squeezenet1_1, skip it\n",
      "vgg16\n",
      "Warning: Could not find dependent module /workspace/UCI/pytorch-benchmark/torchbenchmark/models/vgg16 for Model vgg16, skip it\n"
     ]
    }
   ],
   "source": [
    "list_models()"
   ]
  },
  {
   "cell_type": "code",
   "execution_count": null,
   "id": "69927397",
   "metadata": {},
   "outputs": [],
   "source": []
  }
 ],
 "metadata": {
  "kernelspec": {
   "display_name": "Python 3",
   "language": "python",
   "name": "python3"
  },
  "language_info": {
   "codemirror_mode": {
    "name": "ipython",
    "version": 3
   },
   "file_extension": ".py",
   "mimetype": "text/x-python",
   "name": "python",
   "nbconvert_exporter": "python",
   "pygments_lexer": "ipython3",
   "version": "3.8.10"
  },
  "toc": {
   "base_numbering": 1,
   "nav_menu": {},
   "number_sections": false,
   "sideBar": true,
   "skip_h1_title": false,
   "title_cell": "Table of Contents",
   "title_sidebar": "Contents",
   "toc_cell": false,
   "toc_position": {},
   "toc_section_display": true,
   "toc_window_display": false
  }
 },
 "nbformat": 4,
 "nbformat_minor": 5
}
